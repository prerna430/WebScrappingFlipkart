{
 "cells": [
  {
   "cell_type": "code",
   "execution_count": 4,
   "metadata": {},
   "outputs": [],
   "source": [
    " from bs4 import BeautifulSoup as Soup\n",
    "from urllib.request import urlopen as uReq"
   ]
  },
  {
   "cell_type": "code",
   "execution_count": 5,
   "metadata": {},
   "outputs": [],
   "source": [
    "my_url='https://www.flipkart.com/search?q=apple%20iphone&otracker=search&otracker1=search&marketplace=FLIPKART&as-show=on&as=off'"
   ]
  },
  {
   "cell_type": "code",
   "execution_count": 12,
   "metadata": {},
   "outputs": [],
   "source": [
    "uclient=uReq(my_url)\n",
    "page_html=uclient.read()\n",
    "uclient.close()\n"
   ]
  },
  {
   "cell_type": "code",
   "execution_count": 15,
   "metadata": {},
   "outputs": [],
   "source": [
    "page_soup=Soup(page_html,\"html.parser\")"
   ]
  },
  {
   "cell_type": "code",
   "execution_count": 58,
   "metadata": {},
   "outputs": [
    {
     "name": "stdout",
     "output_type": "stream",
     "text": [
      "24\n"
     ]
    }
   ],
   "source": [
    "containers=page_soup.findAll(\"div\",{\"class\":\"_1UoZlX\"})\n",
    "print(len(containers))"
   ]
  },
  {
   "cell_type": "code",
   "execution_count": 59,
   "metadata": {},
   "outputs": [
    {
     "name": "stdout",
     "output_type": "stream",
     "text": [
      "<div class=\"_1UoZlX\">\n",
      " <a class=\"_31qSD5\" href=\"/apple-iphone-7-black-32-gb/p/itmen6daftcqwzeg?pid=MOBEMK62PN2HU7EE&amp;lid=LSTMOBEMK62PN2HU7EEF7TO4A&amp;marketplace=FLIPKART&amp;srno=s_1_1&amp;otracker=search&amp;otracker1=search&amp;fm=organic&amp;iid=197e3825-820a-4670-b95f-d77afedf7fbe.MOBEMK62PN2HU7EE.SEARCH&amp;ssid=dpyxqcrbnk0000001584984571228&amp;qH=443e995752cbe75b\" rel=\"noopener noreferrer\" target=\"_blank\">\n",
      "  <div class=\"_3SQWE6\">\n",
      "   <div class=\"_1OCn9C\">\n",
      "    <div>\n",
      "     <div class=\"_3BTv9X\" style=\"height:200px;width:200px\">\n",
      "      <img alt=\"Apple iPhone 7 (Black, 32 GB)\" class=\"_1Nyybr\" src=\"//img1a.flixcart.com/www/linchpin/fk-cp-zion/img/placeholder_9951d0.svg\"/>\n",
      "     </div>\n",
      "    </div>\n",
      "   </div>\n",
      "   <div class=\"_2lesQu\">\n",
      "    <div class=\"_1O_CiZ\">\n",
      "     <span class=\"_1iHA1p\">\n",
      "      <div class=\"_2kFyHg\">\n",
      "       <label>\n",
      "        <input class=\"_3uUUD5\" readonly=\"\" type=\"checkbox\"/>\n",
      "        <div class=\"_1p7h2j\">\n",
      "        </div>\n",
      "       </label>\n",
      "      </div>\n",
      "     </span>\n",
      "     <label class=\"_10TB-Q\">\n",
      "      <span>\n",
      "       Add to Compare\n",
      "      </span>\n",
      "     </label>\n",
      "    </div>\n",
      "   </div>\n",
      "   <div class=\"_3gDSOa _32A6AP\">\n",
      "    <div class=\"DsQ2eg\">\n",
      "     <svg class=\"_2oLiqr\" height=\"16\" viewbox=\"0 0 20 16\" width=\"16\" xmlns=\"http://www.w3.org/2000/svg\">\n",
      "      <path class=\"_35Y7Yo\" d=\"M8.695 16.682C4.06 12.382 1 9.536 1 6.065 1 3.219 3.178 1 5.95 1c1.566 0 3.069.746 4.05 1.915C10.981 1.745 12.484 1 14.05 1 16.822 1 19 3.22 19 6.065c0 3.471-3.06 6.316-7.695 10.617L10 17.897l-1.305-1.215z\" fill=\"#2874F0\" fill-rule=\"evenodd\" opacity=\".9\" stroke=\"#FFF\">\n",
      "      </path>\n",
      "     </svg>\n",
      "    </div>\n",
      "   </div>\n",
      "  </div>\n",
      "  <div class=\"_1-2Iqu row\">\n",
      "   <div class=\"col col-7-12\">\n",
      "    <div class=\"_3wU53n\">\n",
      "     Apple iPhone 7 (Black, 32 GB)\n",
      "    </div>\n",
      "    <div class=\"niH0FQ\">\n",
      "     <span class=\"_2_KrJI\" id=\"productRating_LSTMOBEMK62PN2HU7EEF7TO4A_MOBEMK62PN2HU7EE_\">\n",
      "      <div class=\"hGSR34\">\n",
      "       4.5\n",
      "       <img class=\"_2lQ_WZ\" src=\"data:image/svg+xml;base64,PHN2ZyB4bWxucz0iaHR0cDovL3d3dy53My5vcmcvMjAwMC9zdmciIHdpZHRoPSIxMyIgaGVpZ2h0PSIxMiI+PHBhdGggZmlsbD0iI0ZGRiIgZD0iTTYuNSA5LjQzOWwtMy42NzQgMi4yMy45NC00LjI2LTMuMjEtMi44ODMgNC4yNTQtLjQwNEw2LjUuMTEybDEuNjkgNC4wMSA0LjI1NC40MDQtMy4yMSAyLjg4Mi45NCA0LjI2eiIvPjwvc3ZnPg==\"/>\n",
      "      </div>\n",
      "     </span>\n",
      "     <span class=\"_38sUEc\">\n",
      "      <span>\n",
      "       <span>\n",
      "        85,886 Ratings\n",
      "       </span>\n",
      "       <span class=\"_1VpSqZ\">\n",
      "        &amp;\n",
      "       </span>\n",
      "       <span>\n",
      "        8,679 Reviews\n",
      "       </span>\n",
      "      </span>\n",
      "     </span>\n",
      "    </div>\n",
      "    <div class=\"_3ULzGw\">\n",
      "     <ul class=\"vFw0gD\">\n",
      "      <li class=\"tVe95H\">\n",
      "       32 GB ROM |\n",
      "      </li>\n",
      "      <li class=\"tVe95H\">\n",
      "       11.94 cm (4.7 inch) Retina HD Display\n",
      "      </li>\n",
      "      <li class=\"tVe95H\">\n",
      "       12MP Rear Camera | 7MP Front Camera\n",
      "      </li>\n",
      "      <li class=\"tVe95H\">\n",
      "       Apple A10 Fusion 64-bit processor and Embedded M10 Motion Co-processor\n",
      "      </li>\n",
      "      <li class=\"tVe95H\">\n",
      "       iOS 13 Compatible\n",
      "      </li>\n",
      "      <li class=\"tVe95H\">\n",
      "       Brand Warranty of 1 Year\n",
      "      </li>\n",
      "     </ul>\n",
      "    </div>\n",
      "   </div>\n",
      "   <div class=\"col col-5-12 _2o7WAb\">\n",
      "    <div class=\"_6BWGkk\">\n",
      "     <div class=\"_1uv9Cb\">\n",
      "      <div class=\"_1vC4OE _2rQ-NK\">\n",
      "       ₹24,999\n",
      "      </div>\n",
      "      <div class=\"_3auQ3N _2GcJzG\">\n",
      "       ₹\n",
      "       <!-- -->\n",
      "       29,900\n",
      "      </div>\n",
      "      <div class=\"VGWI6T\">\n",
      "       <span>\n",
      "        16% off\n",
      "       </span>\n",
      "      </div>\n",
      "     </div>\n",
      "    </div>\n",
      "    <div class=\"_3n6o0t\">\n",
      "     <img height=\"21\" src=\"//img1a.flixcart.com/www/linchpin/fk-cp-zion/img/fa_8b4b59.png\"/>\n",
      "    </div>\n",
      "    <div class=\"_2nE8_R\">\n",
      "     <div class=\"_3_G5Wj\" style=\"color:#000000;font-size:14px;font-family:inherit;font-weight:normal\">\n",
      "      No Cost EMI\n",
      "     </div>\n",
      "    </div>\n",
      "    <div class=\"_2nE8_R\">\n",
      "     <div class=\"_3_G5Wj\" style=\"color:#000000;font-size:14px;font-family:inherit;font-weight:normal\">\n",
      "      Upto\n",
      "     </div>\n",
      "     <div class=\"_3_G5Wj\" style=\"color:#000000;font-size:14px;font-family:inherit;font-weight:bold\">\n",
      "      ₹11,850\n",
      "     </div>\n",
      "     <div class=\"_3_G5Wj\" style=\"color:#000000;font-size:14px;font-family:inherit;font-weight:normal\">\n",
      "      Off on Exchange\n",
      "     </div>\n",
      "    </div>\n",
      "   </div>\n",
      "  </div>\n",
      " </a>\n",
      "</div>\n"
     ]
    }
   ],
   "source": [
    "print(Soup.prettify(containers[0]))"
   ]
  },
  {
   "cell_type": "code",
   "execution_count": 60,
   "metadata": {},
   "outputs": [
    {
     "name": "stdout",
     "output_type": "stream",
     "text": [
      "Apple iPhone 7 (Black, 32 GB)\n"
     ]
    }
   ],
   "source": [
    "container=containers[0]\n",
    "print(container.div.img[\"alt\"])"
   ]
  },
  {
   "cell_type": "code",
   "execution_count": 61,
   "metadata": {},
   "outputs": [
    {
     "name": "stdout",
     "output_type": "stream",
     "text": [
      "₹24,999\n"
     ]
    }
   ],
   "source": [
    "price=container.findAll(\"div\",{\"class\":\"col col-5-12 _2o7WAb\"})\n",
    "print(price[0].text)"
   ]
  },
  {
   "cell_type": "code",
   "execution_count": 112,
   "metadata": {},
   "outputs": [
    {
     "name": "stdout",
     "output_type": "stream",
     "text": [
      "4.68,712 Ratings & 736 Reviews\n",
      "4.68,712 Ratings & 736 Reviews\n"
     ]
    }
   ],
   "source": [
    "ratings=container.findAll(\"div\",{\"class\":\"niH0FQ\"})\n",
    "print(ratings[0].text)\n",
    "reviews=container.findAll(\"div\",{\"class\":\"niH0FQ\"})\n",
    "print(reviews[0].text)"
   ]
  },
  {
   "cell_type": "code",
   "execution_count": 108,
   "metadata": {},
   "outputs": [
    {
     "data": {
      "text/plain": [
       "29"
      ]
     },
     "execution_count": 108,
     "metadata": {},
     "output_type": "execute_result"
    }
   ],
   "source": [
    "filename=\"productsf.csv\"\n",
    "f=open(filename,\"w\")\n",
    "headers=\"Product_Name,Pricing,ratings\\n\"\n",
    "f.write(headers)"
   ]
  },
  {
   "cell_type": "code",
   "execution_count": 109,
   "metadata": {},
   "outputs": [
    {
     "name": "stdout",
     "output_type": "stream",
     "text": [
      "Apple iPhone 7 (Black| 32 GB),Rs.24999,4.585,886\n",
      "\n",
      "Apple iPhone XS (Gold| 64 GB),Rs.52999,4.78,189\n",
      "\n",
      "Apple iPhone XS (Space Grey| 64 GB),Rs.52999,4.78,189\n",
      "\n",
      "Apple iPhone 7 Plus (Black| 32 GB),Rs.32999,4.524,023\n",
      "\n",
      "Apple iPhone XS (Silver| 64 GB),Rs.52999,4.78,189\n",
      "\n",
      "Apple iPhone 7 Plus (Gold| 32 GB),Rs.32999,4.524,023\n",
      "\n",
      "Apple iPhone 7 Plus (Rose Gold| 32 GB),Rs.32999,4.524,023\n",
      "\n",
      "Apple iPhone 8 (Silver| 64 GB),Rs.36999,4.59,916\n",
      "\n",
      "Apple iPhone 11 (White| 64 GB),Rs.64900,4.710,649\n",
      "\n",
      "Apple iPhone 11 (Black| 128 GB),Rs.69900,4.710,649\n",
      "\n",
      "Apple iPhone 11 (Green| 128 GB),Rs.69900,4.710,649\n",
      "\n",
      "Apple iPhone 11 (Purple| 128 GB),Rs.69900,4.710,649\n",
      "\n",
      "Apple iPhone 11 (Black| 64 GB),Rs.64900,4.710,649\n",
      "\n",
      "Apple iPhone 11 (White| 128 GB),Rs.69900,4.710,649\n",
      "\n",
      "Apple iPhone 11 (Purple| 64 GB),Rs.64900,4.710,649\n",
      "\n",
      "Apple iPhone XR (Blue| 64 GB),Rs.49900,4.68,712\n",
      "\n",
      "Apple iPhone 11 (Green| 64 GB),Rs.64900,4.710,649\n",
      "\n",
      "Apple iPhone 8 (Space Grey| 64 GB),Rs.36999,4.59,916\n",
      "\n",
      "Apple iPhone XR (White| 64 GB),Rs.49900,4.68,712\n",
      "\n",
      "Apple iPhone XR (Black| 128 GB),Rs.54900,4.68,712\n",
      "\n",
      "Apple iPhone 7 Plus (Silver| 32 GB),Rs.32999,4.524,023\n",
      "\n",
      "Apple iPhone XR (Blue| 128 GB),Rs.54900,4.68,712\n",
      "\n",
      "Apple iPhone 11 (Yellow| 128 GB),Rs.69900,4.710,649\n",
      "\n",
      "Apple iPhone XR ((PRODUCT)RED| 64 GB),Rs.49900,4.68,712\n",
      "\n"
     ]
    }
   ],
   "source": [
    "for container in containers:\n",
    " product_name=container.div.img[\"alt\"]\n",
    " product_ratings=container.findAll(\"div\", {\"class\":\"niH0FQ\"})\n",
    " rating=product_ratings[0].text\n",
    " product_price=container.findAll(\"div\", {\"class\":\"col col-5-12 _2o7WAb\"})\n",
    " price=product_price[0].text.strip()\n",
    " #print(\"product_name:\"+product_name)\n",
    " #print(\"product_ratings:\"+rating)\n",
    " #print(\"product_price:\"+price)\n",
    " trim_price=''.join(price.split(','))\n",
    " rm_rupee=trim_price.split(\"₹\")\n",
    " add_rs=\"Rs.\"+rm_rupee[1]\n",
    " split_price=add_rs.split('N')\n",
    " final_price=split_price[0]\n",
    " split_rating=rating.split(\" \")\n",
    " final_rating=split_rating[0]\n",
    " print(product_name.replace(\",\",\"|\") +\",\"+ final_price+\",\" + final_rating+\"\\n\")\n",
    " f.write(product_name.replace(\",\",\"|\") + \",\"+ final_price+\",\"+ final_rating+\"\\n\")"
   ]
  },
  {
   "cell_type": "code",
   "execution_count": 110,
   "metadata": {},
   "outputs": [],
   "source": [
    "f.close()"
   ]
  },
  {
   "cell_type": "code",
   "execution_count": null,
   "metadata": {},
   "outputs": [],
   "source": []
  }
 ],
 "metadata": {
  "kernelspec": {
   "display_name": "Python 3",
   "language": "python",
   "name": "python3"
  },
  "language_info": {
   "codemirror_mode": {
    "name": "ipython",
    "version": 3
   },
   "file_extension": ".py",
   "mimetype": "text/x-python",
   "name": "python",
   "nbconvert_exporter": "python",
   "pygments_lexer": "ipython3",
   "version": "3.7.4"
  }
 },
 "nbformat": 4,
 "nbformat_minor": 2
}
